{
 "cells": [
  {
   "cell_type": "code",
   "execution_count": 14,
   "metadata": {},
   "outputs": [],
   "source": [
    "from nb import MyNaiveBayesClassifier"
   ]
  },
  {
   "cell_type": "code",
   "execution_count": 15,
   "metadata": {},
   "outputs": [],
   "source": [
    "def make_table(posname, negname):\n",
    "    pos = open(posname).read().splitlines()\n",
    "    neg = open(negname).read().splitlines()\n",
    "\n",
    "    for i in range(len(pos)):\n",
    "        pos[i] = [pos[i]]\n",
    "        pos[i].append('+')\n",
    "    for i in range(len(neg)):\n",
    "        neg[i] = [neg[i]]\n",
    "        neg[i].append('-')\n",
    "\n",
    "    data = pos+neg\n",
    "    return data"
   ]
  },
  {
   "cell_type": "code",
   "execution_count": 16,
   "metadata": {},
   "outputs": [],
   "source": [
    "movie_nb = MyNaiveBayesClassifier()\n",
    "data = make_table('movie_reviews/pos.txt', 'movie_reviews/neg.txt')\n",
    "\n",
    "X = []\n",
    "y = []\n",
    "\n",
    "for i in range(len(data)):\n",
    "    X.append([data[i][0]])\n",
    "    y.append(data[i][1])\n",
    "\n",
    "movie_nb.fit(X, y)"
   ]
  },
  {
   "cell_type": "code",
   "execution_count": 11,
   "metadata": {},
   "outputs": [
    {
     "name": "stdout",
     "output_type": "stream",
     "text": [
      "{'+': 0.0021216407355021216, '-': 0.00291970802919708}\n",
      "['-']\n"
     ]
    }
   ],
   "source": []
  }
 ],
 "metadata": {
  "kernelspec": {
   "display_name": "base",
   "language": "python",
   "name": "python3"
  },
  "language_info": {
   "codemirror_mode": {
    "name": "ipython",
    "version": 3
   },
   "file_extension": ".py",
   "mimetype": "text/x-python",
   "name": "python",
   "nbconvert_exporter": "python",
   "pygments_lexer": "ipython3",
   "version": "3.8.3"
  },
  "orig_nbformat": 4,
  "vscode": {
   "interpreter": {
    "hash": "0f08ad98d56565955c9169e09b4bf1d4bcdca5a3fad31a425127a4b280cd24cc"
   }
  }
 },
 "nbformat": 4,
 "nbformat_minor": 2
}
